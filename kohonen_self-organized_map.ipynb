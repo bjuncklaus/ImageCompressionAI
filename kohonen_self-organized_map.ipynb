{
 "cells": [
  {
   "cell_type": "code",
   "execution_count": 1,
   "metadata": {},
   "outputs": [],
   "source": [
    "# \tprivate int clusterizacao(int[] pixel) {\n",
    "# \t\tdouble menorValor = Double.MAX_VALUE;\n",
    "# \t\tint menorIndice = 0;\n",
    "\n",
    "# \t\tfor (int j = 0; j < QTD_CLUSTER; j++) {\n",
    "# \t\t\tdouble valor = 0;\n",
    "\n",
    "# \t\t\t// D(j) = ∑i(wij−xi)² Distância Euclidiana \n",
    "# \t\t\tfor (int i = 0; i < QTD_PIXEL; i++) {\n",
    "# //\t\t\t\tvalor += (w[i][j] - pixel[i]) < 0 ? (w[i][j] - pixel[i]) * -1 : (w[i][j] - pixel[i]);\n",
    "# \t\t\t\tvalor += Math.abs(w[i][j] - pixel[i]);\n",
    "# \t\t\t}\n",
    "\n",
    "# \t\t\t// Passo 5. Encontre o índice j onde D(j) seja mínimo.\n",
    "# \t\t\tif (menorValor > valor) {\n",
    "# \t\t\t\tmenorValor = valor;\n",
    "# \t\t\t\tmenorIndice = j;\n",
    "# \t\t\t}\n",
    "# \t\t}\n",
    "# \t\treturn menorIndice;\n",
    "# \t}"
   ]
  },
  {
   "cell_type": "code",
   "execution_count": 2,
   "metadata": {},
   "outputs": [],
   "source": [
    "from PIL import Image"
   ]
  },
  {
   "cell_type": "code",
   "execution_count": 3,
   "metadata": {},
   "outputs": [],
   "source": [
    "image = Image.open(\"mosaic.jpg\")"
   ]
  },
  {
   "cell_type": "code",
   "execution_count": 4,
   "metadata": {},
   "outputs": [
    {
     "data": {
      "text/plain": [
       "450"
      ]
     },
     "execution_count": 4,
     "metadata": {},
     "output_type": "execute_result"
    }
   ],
   "source": [
    "image.height"
   ]
  },
  {
   "cell_type": "code",
   "execution_count": 5,
   "metadata": {},
   "outputs": [
    {
     "data": {
      "text/plain": [
       "392"
      ]
     },
     "execution_count": 5,
     "metadata": {},
     "output_type": "execute_result"
    }
   ],
   "source": [
    "image.width"
   ]
  },
  {
   "cell_type": "code",
   "execution_count": 6,
   "metadata": {},
   "outputs": [
    {
     "data": {
      "text/plain": [
       "(392, 450)"
      ]
     },
     "execution_count": 6,
     "metadata": {},
     "output_type": "execute_result"
    }
   ],
   "source": [
    "image.size"
   ]
  },
  {
   "cell_type": "code",
   "execution_count": 16,
   "metadata": {},
   "outputs": [],
   "source": [
    "pixels = image.load()"
   ]
  },
  {
   "cell_type": "code",
   "execution_count": 17,
   "metadata": {},
   "outputs": [
    {
     "data": {
      "text/plain": [
       "(209, 63, 66)"
      ]
     },
     "execution_count": 17,
     "metadata": {},
     "output_type": "execute_result"
    }
   ],
   "source": [
    "pixels[100, 100]"
   ]
  },
  {
   "cell_type": "code",
   "execution_count": null,
   "metadata": {},
   "outputs": [],
   "source": []
  }
 ],
 "metadata": {
  "kernelspec": {
   "display_name": "Python 3",
   "language": "python",
   "name": "python3"
  },
  "language_info": {
   "codemirror_mode": {
    "name": "ipython",
    "version": 3
   },
   "file_extension": ".py",
   "mimetype": "text/x-python",
   "name": "python",
   "nbconvert_exporter": "python",
   "pygments_lexer": "ipython3",
   "version": "3.6.2"
  }
 },
 "nbformat": 4,
 "nbformat_minor": 2
}
